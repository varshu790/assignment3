{
  "nbformat": 4,
  "nbformat_minor": 0,
  "metadata": {
    "colab": {
      "provenance": []
    },
    "kernelspec": {
      "name": "python3",
      "display_name": "Python 3"
    },
    "language_info": {
      "name": "python"
    }
  },
  "cells": [
    {
      "cell_type": "markdown",
      "source": [
        "Q1. Which keyword is used to create a function? Create a function to return a list of odd numbers in the \n",
        "range of 1 to 25.\n",
        "\n",
        "Ans- Keyword used to create a function.\n",
        "     \n",
        "          def keyword()\n",
        "    \n",
        "    example:  def test1()"
      ],
      "metadata": {
        "id": "dObwe1UUfQg4"
      }
    },
    {
      "cell_type": "code",
      "execution_count": 27,
      "metadata": {
        "id": "b2a2A1azfEdD"
      },
      "outputs": [],
      "source": [
        "l =list(range(1,26))\n",
        "def test1(l):\n",
        "  l1 = []\n",
        "  for i in l:\n",
        "    if i%2 != 0:\n",
        "      l1.append(i)\n",
        "  return l1"
      ]
    },
    {
      "cell_type": "code",
      "source": [
        "test1(l)"
      ],
      "metadata": {
        "colab": {
          "base_uri": "https://localhost:8080/"
        },
        "id": "1lU4uKWxii9y",
        "outputId": "5762d474-b753-4e44-e809-52fb12311be0"
      },
      "execution_count": 28,
      "outputs": [
        {
          "output_type": "execute_result",
          "data": {
            "text/plain": [
              "[1, 3, 5, 7, 9, 11, 13, 15, 17, 19, 21, 23, 25]"
            ]
          },
          "metadata": {},
          "execution_count": 28
        }
      ]
    },
    {
      "cell_type": "markdown",
      "source": [
        "Q2. Why *args and **kwargs is used in some functions? Create a function each for *args and **kwargs to demonstrate their use.\n",
        "\n",
        "Ans - In Python, we can pass a variable number of arguments to a function using special symbols. There are two special symbols:\n",
        "\n",
        "1. *args (Non Keyword Arguments)\n",
        "\n",
        "2. **kwargs (Keyword Arguments)\n",
        "\n",
        "We use *args and **kwargs as an argument when we are unsure about the number of arguments to pass in the functions.\n",
        "\n"
      ],
      "metadata": {
        "id": "1aqgfclAkYNF"
      }
    },
    {
      "cell_type": "code",
      "source": [
        "# USE OF *ARG\n",
        "def add(*args):\n",
        "    print(args, type(args))\n",
        "\n",
        "add(2, 3)\n",
        "\n",
        "# USE OF **KWARG\n",
        "\n",
        "def total_fruits(**kwargs):\n",
        "    print(kwargs, type(kwargs))\n",
        "\n",
        "\n",
        "total_fruits(banana=5, mango=7, apple=8)"
      ],
      "metadata": {
        "colab": {
          "base_uri": "https://localhost:8080/"
        },
        "id": "kPcy_lMzlLgZ",
        "outputId": "4e33370f-c523-4a7e-c728-5671a1712695"
      },
      "execution_count": 29,
      "outputs": [
        {
          "output_type": "stream",
          "name": "stdout",
          "text": [
            "(2, 3) <class 'tuple'>\n",
            "{'banana': 5, 'mango': 7, 'apple': 8} <class 'dict'>\n"
          ]
        }
      ]
    },
    {
      "cell_type": "markdown",
      "source": [
        "Q3.  What is an iterator in python? Name the method used to initialise the iterator object and the method \n",
        "used for iteration. Use these methods to print the first five elements of the given list [2, 4, 6, 8, 10, 12, 14, \n",
        "16, 18, 20].\n",
        "\n",
        "ANS-  In Python, an iterator is an object that allows you to iterate over collections of data, such as lists, tuples, dictionaries, and sets.\n",
        "\n",
        "1. Iter() method is used to initialize the iterator object so that the instance of this object can be used for iterating.\n",
        "\n",
        "2. next(): The next method returns the next value for the iterable. "
      ],
      "metadata": {
        "id": "imVuYj1Okilg"
      }
    },
    {
      "cell_type": "code",
      "source": [
        "l = [2, 4, 6, 8, 10, 12, 14, 16, 18, 20]\n",
        "l2=iter(l)\n",
        "print(next(l2))\n",
        "print(next(l2))\n",
        "print(next(l2))\n",
        "print(next(l2))\n",
        "print(next(l2))"
      ],
      "metadata": {
        "colab": {
          "base_uri": "https://localhost:8080/"
        },
        "id": "mzqMYFpgno2X",
        "outputId": "9dd74cec-c266-4688-960c-4c80a776dff9"
      },
      "execution_count": 30,
      "outputs": [
        {
          "output_type": "stream",
          "name": "stdout",
          "text": [
            "2\n",
            "4\n",
            "6\n",
            "8\n",
            "10\n"
          ]
        }
      ]
    },
    {
      "cell_type": "markdown",
      "source": [
        "Q4.  What is a generator function in python? Why yield keyword is used? Give an example of a generator \n",
        "function.\n",
        "\n",
        "ANS- A Python generator function allows you to declare a function that behaves like an iterator, providing a faster and easier way to create iterators. They can be used on an abstract container of data to turn it into an iterable object like lists, dictionaries and strings.\n",
        "\n",
        "The yield keyword in Python controls the flow of a generator function. This is similar to a return statement used for returning values in Python."
      ],
      "metadata": {
        "id": "KzuYzUyykkWu"
      }
    },
    {
      "cell_type": "code",
      "source": [
        "#EXAMPLE\n",
        "def filtering_odd( numbers ):  \n",
        "    for num in range( numbers ):  \n",
        "        if num % 2 != 0:  \n",
        "            yield num   \n",
        "  \n",
        "odd_num = filtering_odd( 34 )  \n",
        "print(list( odd_num ))  "
      ],
      "metadata": {
        "colab": {
          "base_uri": "https://localhost:8080/"
        },
        "id": "4vMman29v5jv",
        "outputId": "7043e8e7-9474-49c9-dd35-82f3f067910f"
      },
      "execution_count": 31,
      "outputs": [
        {
          "output_type": "stream",
          "name": "stdout",
          "text": [
            "[1, 3, 5, 7, 9, 11, 13, 15, 17, 19, 21, 23, 25, 27, 29, 31, 33]\n"
          ]
        }
      ]
    },
    {
      "cell_type": "markdown",
      "source": [
        "Q5. Create a generator function for prime numbers less than 1000. Use the next() method to print the \n",
        "first 20 prime numbers."
      ],
      "metadata": {
        "id": "nWEawz34klCI"
      }
    },
    {
      "cell_type": "code",
      "source": [
        "\n",
        "def get_first_primes(upper_limit):\n",
        "   primes = []\n",
        "\n",
        "   for i in range(2, upper_limit + 1):\n",
        "       is_prime = True\n",
        "       for j in range(2, ((i // 2) + 1), 1):\n",
        "           if i % j == 0:\n",
        "               is_prime = False\n",
        "               break\n",
        "       if is_prime:\n",
        "           primes.append(i)\n",
        "\n",
        "   return primes\n",
        "\n",
        "\n",
        "if __name__ == '__main__':\n",
        "   print(\"Your number: \")\n",
        "   n = input()\n",
        "   result = get_first_primes(int(n))\n",
        "   print(result)\n",
        "\n",
        "\n"
      ],
      "metadata": {
        "id": "DuT5rhdxwBxI",
        "colab": {
          "base_uri": "https://localhost:8080/"
        },
        "outputId": "ead2f7c1-4216-4059-ed4e-07f03eed3253"
      },
      "execution_count": 32,
      "outputs": [
        {
          "output_type": "stream",
          "name": "stdout",
          "text": [
            "Your number: \n",
            "1000\n",
            "[2, 3, 5, 7, 11, 13, 17, 19, 23, 29, 31, 37, 41, 43, 47, 53, 59, 61, 67, 71, 73, 79, 83, 89, 97, 101, 103, 107, 109, 113, 127, 131, 137, 139, 149, 151, 157, 163, 167, 173, 179, 181, 191, 193, 197, 199, 211, 223, 227, 229, 233, 239, 241, 251, 257, 263, 269, 271, 277, 281, 283, 293, 307, 311, 313, 317, 331, 337, 347, 349, 353, 359, 367, 373, 379, 383, 389, 397, 401, 409, 419, 421, 431, 433, 439, 443, 449, 457, 461, 463, 467, 479, 487, 491, 499, 503, 509, 521, 523, 541, 547, 557, 563, 569, 571, 577, 587, 593, 599, 601, 607, 613, 617, 619, 631, 641, 643, 647, 653, 659, 661, 673, 677, 683, 691, 701, 709, 719, 727, 733, 739, 743, 751, 757, 761, 769, 773, 787, 797, 809, 811, 821, 823, 827, 829, 839, 853, 857, 859, 863, 877, 881, 883, 887, 907, 911, 919, 929, 937, 941, 947, 953, 967, 971, 977, 983, 991, 997]\n"
          ]
        }
      ]
    },
    {
      "cell_type": "code",
      "source": [
        "m = result\n",
        "m1 = iter(m)\n",
        "for i in range(20):\n",
        "  print(next(m1))\n"
      ],
      "metadata": {
        "colab": {
          "base_uri": "https://localhost:8080/"
        },
        "id": "SvJVpkg74L5s",
        "outputId": "8d49072b-b14d-415d-9124-a2fde379af7c"
      },
      "execution_count": 33,
      "outputs": [
        {
          "output_type": "stream",
          "name": "stdout",
          "text": [
            "2\n",
            "3\n",
            "5\n",
            "7\n",
            "11\n",
            "13\n",
            "17\n",
            "19\n",
            "23\n",
            "29\n",
            "31\n",
            "37\n",
            "41\n",
            "43\n",
            "47\n",
            "53\n",
            "59\n",
            "61\n",
            "67\n",
            "71\n"
          ]
        }
      ]
    },
    {
      "cell_type": "markdown",
      "source": [
        "Q6. Write a python program to print the first 10 Fibonacci numbers using a while loop"
      ],
      "metadata": {
        "id": "Z6ewyPP8kmkk"
      }
    },
    {
      "cell_type": "code",
      "source": [
        "def test_fib():\n",
        "  a,b = 0,1\n",
        "  while True :\n",
        "    yield a\n",
        "    a,b = b, a+b\n",
        "fib = test_fib()\n",
        "for i in range(10):\n",
        "  print(next(fib))"
      ],
      "metadata": {
        "colab": {
          "base_uri": "https://localhost:8080/"
        },
        "id": "qIM-WYVmx4yS",
        "outputId": "bad736bf-ac99-4461-f901-f645264e82d0"
      },
      "execution_count": 34,
      "outputs": [
        {
          "output_type": "stream",
          "name": "stdout",
          "text": [
            "0\n",
            "1\n",
            "1\n",
            "2\n",
            "3\n",
            "5\n",
            "8\n",
            "13\n",
            "21\n",
            "34\n"
          ]
        }
      ]
    },
    {
      "cell_type": "markdown",
      "source": [
        "Q7. Write a List Comprehension to iterate through the given string: ‘pwskills’.\n",
        "\n",
        "Expected output: ['p', 'w', 's', 'k', 'i', 'l', 'l', 's']"
      ],
      "metadata": {
        "id": "cTDtsWwhknrE"
      }
    },
    {
      "cell_type": "code",
      "source": [
        "s = list(map(lambda x:x,\"pwsills\"))\n",
        "print(s)\n",
        "\n"
      ],
      "metadata": {
        "colab": {
          "base_uri": "https://localhost:8080/"
        },
        "id": "tIewyNlO0YMW",
        "outputId": "661ad20a-c6c5-4d62-8351-34a6fea66bad"
      },
      "execution_count": 35,
      "outputs": [
        {
          "output_type": "stream",
          "name": "stdout",
          "text": [
            "['p', 'w', 's', 'i', 'l', 'l', 's']\n"
          ]
        }
      ]
    },
    {
      "cell_type": "markdown",
      "source": [
        "Q8. Write a python program to check whether a given number is Palindrome or not using a while loop"
      ],
      "metadata": {
        "id": "nPnUj8l3kpXM"
      }
    },
    {
      "cell_type": "code",
      "source": [
        "num = int(input(\"Enter a number:\"))\n",
        "a = num\n",
        "rev = 0\n",
        "while(num>0):\n",
        "  dig = num%10\n",
        "  rev = rev*10+dig\n",
        "  num = num//10\n",
        "if(a==rev):\n",
        "  print(\"the no. is palindrome\")\n",
        "else: \n",
        "  print(\"not a palindrome\")"
      ],
      "metadata": {
        "colab": {
          "base_uri": "https://localhost:8080/"
        },
        "id": "8vX4wL4S5I_z",
        "outputId": "fbfa0371-06d1-4381-8716-27540d0c364c"
      },
      "execution_count": 36,
      "outputs": [
        {
          "output_type": "stream",
          "name": "stdout",
          "text": [
            "Enter a number:1221\n",
            "the no. is palindrome\n"
          ]
        }
      ]
    },
    {
      "cell_type": "code",
      "source": [
        "num = int(input(\"Enter a number:\"))\n",
        "a = num\n",
        "rev = 0\n",
        "while(num>0):\n",
        "  dig = num%10\n",
        "  rev = rev*10+dig\n",
        "  num = num//10\n",
        "if(a==rev):\n",
        "  print(\"the no. is palindrome\")\n",
        "else: \n",
        "  print(\"not a palindrome\")"
      ],
      "metadata": {
        "colab": {
          "base_uri": "https://localhost:8080/"
        },
        "id": "mAe4rVDi3fNl",
        "outputId": "4c7b3918-0963-4748-b390-c49a263743b0"
      },
      "execution_count": 37,
      "outputs": [
        {
          "output_type": "stream",
          "name": "stdout",
          "text": [
            "Enter a number:123\n",
            "not a palindrome\n"
          ]
        }
      ]
    },
    {
      "cell_type": "markdown",
      "source": [
        "Q9. Write a code to print odd numbers from 1 to 100 using list comprehension.\n",
        "\n",
        "Note: Use a list comprehension to create a list from 1 to 100 and use another List comprehension to filter \n",
        "out odd numbers."
      ],
      "metadata": {
        "id": "osaxSNGOkp4d"
      }
    },
    {
      "cell_type": "code",
      "source": [
        "l = range(1,101)"
      ],
      "metadata": {
        "id": "1qIbi-C63fD2"
      },
      "execution_count": 38,
      "outputs": []
    },
    {
      "cell_type": "code",
      "source": [
        "list(l)"
      ],
      "metadata": {
        "colab": {
          "base_uri": "https://localhost:8080/"
        },
        "id": "0YyQGN_T3iw8",
        "outputId": "1e9cdb39-88c3-4b2f-e69d-869393a70262"
      },
      "execution_count": 39,
      "outputs": [
        {
          "output_type": "execute_result",
          "data": {
            "text/plain": [
              "[1,\n",
              " 2,\n",
              " 3,\n",
              " 4,\n",
              " 5,\n",
              " 6,\n",
              " 7,\n",
              " 8,\n",
              " 9,\n",
              " 10,\n",
              " 11,\n",
              " 12,\n",
              " 13,\n",
              " 14,\n",
              " 15,\n",
              " 16,\n",
              " 17,\n",
              " 18,\n",
              " 19,\n",
              " 20,\n",
              " 21,\n",
              " 22,\n",
              " 23,\n",
              " 24,\n",
              " 25,\n",
              " 26,\n",
              " 27,\n",
              " 28,\n",
              " 29,\n",
              " 30,\n",
              " 31,\n",
              " 32,\n",
              " 33,\n",
              " 34,\n",
              " 35,\n",
              " 36,\n",
              " 37,\n",
              " 38,\n",
              " 39,\n",
              " 40,\n",
              " 41,\n",
              " 42,\n",
              " 43,\n",
              " 44,\n",
              " 45,\n",
              " 46,\n",
              " 47,\n",
              " 48,\n",
              " 49,\n",
              " 50,\n",
              " 51,\n",
              " 52,\n",
              " 53,\n",
              " 54,\n",
              " 55,\n",
              " 56,\n",
              " 57,\n",
              " 58,\n",
              " 59,\n",
              " 60,\n",
              " 61,\n",
              " 62,\n",
              " 63,\n",
              " 64,\n",
              " 65,\n",
              " 66,\n",
              " 67,\n",
              " 68,\n",
              " 69,\n",
              " 70,\n",
              " 71,\n",
              " 72,\n",
              " 73,\n",
              " 74,\n",
              " 75,\n",
              " 76,\n",
              " 77,\n",
              " 78,\n",
              " 79,\n",
              " 80,\n",
              " 81,\n",
              " 82,\n",
              " 83,\n",
              " 84,\n",
              " 85,\n",
              " 86,\n",
              " 87,\n",
              " 88,\n",
              " 89,\n",
              " 90,\n",
              " 91,\n",
              " 92,\n",
              " 93,\n",
              " 94,\n",
              " 95,\n",
              " 96,\n",
              " 97,\n",
              " 98,\n",
              " 99,\n",
              " 100]"
            ]
          },
          "metadata": {},
          "execution_count": 39
        }
      ]
    },
    {
      "cell_type": "code",
      "source": [
        "list(filter(lambda x : x % 2 != 0, l))"
      ],
      "metadata": {
        "colab": {
          "base_uri": "https://localhost:8080/"
        },
        "id": "YWpnRxMg3to0",
        "outputId": "feb8eb32-a95c-4fc6-919d-1b22da9a1430"
      },
      "execution_count": 40,
      "outputs": [
        {
          "output_type": "execute_result",
          "data": {
            "text/plain": [
              "[1,\n",
              " 3,\n",
              " 5,\n",
              " 7,\n",
              " 9,\n",
              " 11,\n",
              " 13,\n",
              " 15,\n",
              " 17,\n",
              " 19,\n",
              " 21,\n",
              " 23,\n",
              " 25,\n",
              " 27,\n",
              " 29,\n",
              " 31,\n",
              " 33,\n",
              " 35,\n",
              " 37,\n",
              " 39,\n",
              " 41,\n",
              " 43,\n",
              " 45,\n",
              " 47,\n",
              " 49,\n",
              " 51,\n",
              " 53,\n",
              " 55,\n",
              " 57,\n",
              " 59,\n",
              " 61,\n",
              " 63,\n",
              " 65,\n",
              " 67,\n",
              " 69,\n",
              " 71,\n",
              " 73,\n",
              " 75,\n",
              " 77,\n",
              " 79,\n",
              " 81,\n",
              " 83,\n",
              " 85,\n",
              " 87,\n",
              " 89,\n",
              " 91,\n",
              " 93,\n",
              " 95,\n",
              " 97,\n",
              " 99]"
            ]
          },
          "metadata": {},
          "execution_count": 40
        }
      ]
    },
    {
      "cell_type": "code",
      "source": [],
      "metadata": {
        "id": "eXqJ1HKO5bzB"
      },
      "execution_count": 40,
      "outputs": []
    }
  ]
}